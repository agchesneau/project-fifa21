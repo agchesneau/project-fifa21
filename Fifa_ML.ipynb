{
 "cells": [
  {
   "cell_type": "code",
   "execution_count": 44,
   "id": "e7e04420",
   "metadata": {},
   "outputs": [],
   "source": [
    "import pandas as pd  \n",
    "import numpy as np\n",
    "import matplotlib.pyplot as plt\n",
    "import scipy.stats as stats\n",
    "from sklearn import linear_model\n",
    "from sklearn.preprocessing import OneHotEncoder\n",
    "from sklearn.model_selection import train_test_split\n",
    "from sklearn.metrics import mean_absolute_error,mean_squared_error, r2_score\n",
    "import math\n",
    "\n",
    "fifa = pd.read_csv('./fifa21_train.csv')\n",
    "\n",
    "fifa = fifa.drop(columns=[\"ID\",\"Club\"\n",
    "                          ,\"Position\"\n",
    "                          ,\"Team & Contract\"\n",
    "                          ,\"Joined\"\n",
    "                          ,\"Loan Date End\"\n",
    "                          ,\"Release Clause\"\n",
    "                          ,\"Contract\"\n",
    "                          ,\"Growth\"\n",
    "                          ,\"A/W\"\n",
    "                          ,\"D/W\"\n",
    "                          ,'LS'\n",
    "                          ,'ST',\n",
    "                         'RS',\n",
    "                         'LW',\n",
    "                         'LF',\n",
    "                         'CF',\n",
    "                         'RF',\n",
    "                         'RW',\n",
    "                         'LAM',\n",
    "                         'CAM',\n",
    "                         'RAM',\n",
    "                         'LM',\n",
    "                         'LCM',\n",
    "                         'CM',\n",
    "                         'RCM',\n",
    "                         'RM',\n",
    "                         'LWB',\n",
    "                         'LDM',\n",
    "                         'CDM',\n",
    "                         'RDM',\n",
    "                         'RWB',\n",
    "                         'LB',\n",
    "                         'LCB',\n",
    "                         'CB',\n",
    "                         'RCB',\n",
    "                         'RB',\n",
    "                         'GK'\n",
    "                         ,\"W/F\",\n",
    "                          \"SM\",\n",
    "                          \"IR\",\n",
    "                          \"Value\",\n",
    "                          \"Name\",\n",
    "                          \"Nationality\",\n",
    "                          \"foot\",\n",
    "                          \"Hits\"])\n",
    "\n",
    "fifa['Wage'] = (pd.to_numeric(fifa['Wage'].str.strip('K').str.strip('€')))* 1000\n",
    "\n",
    "fifa['Weight']=pd.to_numeric(fifa['Weight'].str.strip('lbs'))\n",
    "\n",
    "fifa['Height']=((pd.to_numeric(fifa['Height'].str[0]))*12)+ (pd.to_numeric(fifa['Height'].str.split(\"\\'\").str[1].str.strip('\"')))*2.54\n",
    "\n",
    "fifa = fifa.dropna()\n",
    "\n",
    "# GK = 0, Defense = 1, Midfield = 2, Offense = 3\n",
    "\n",
    "fifa[\"BP\"]=(fifa[\"BP\"]\n",
    "            .replace(\"GK\",0)\n",
    "            .replace(\"LB\",1)\n",
    "            .replace(\"CB\",1)\n",
    "            .replace(\"RB\",1)\n",
    "            .replace(\"ST\",3)\n",
    "            .replace(\"RW\",3)\n",
    "            .replace(\"LWB\",3)\n",
    "            .replace(\"LW\",3)\n",
    "            .replace(\"RWB\",3)\n",
    "            .replace(\"CDM\",2)\n",
    "            .replace(\"CAM\",2)\n",
    "            .replace(\"LM\",2)\n",
    "            .replace(\"RM\",2)\n",
    "            .replace(\"CM\",2)\n",
    "            .replace(\"CF\",3))\n",
    "\n",
    "fifa.dtypes\n",
    "\n",
    "fifa.corr()\n",
    "\n",
    "fifa = fifa.drop(columns=['Height','Weight','Acceleration','Sprint Speed','Agility','Balance','Jumping',\n",
    "                 'Interceptions','Defending','Marking','Standing Tackle', 'Sliding Tackle', 'Goalkeeping',\n",
    "                 'GK Diving','GK Handling', 'GK Kicking', 'GK Positioning', 'GK Reflexes', 'PAC', 'DRI','DEF','PHY'])               \n",
    "\n",
    "y = fifa[\"OVA\"]\n",
    "X = fifa.drop(columns=[\"OVA\"])\n",
    "X_train, X_test, y_train, y_test = train_test_split(X, y, test_size=0.2, random_state=42)\n",
    "\n",
    "from sklearn.preprocessing import MinMaxScaler\n",
    "transformer = MinMaxScaler().fit(X)\n",
    "X_normalized = transformer.transform(X)\n",
    "fifa = pd.DataFrame(X_normalized, columns=X.columns)"
   ]
  },
  {
   "cell_type": "code",
   "execution_count": 57,
   "id": "51c2928f",
   "metadata": {},
   "outputs": [
    {
     "data": {
      "text/plain": [
       "LinearRegression()"
      ]
     },
     "execution_count": 57,
     "metadata": {},
     "output_type": "execute_result"
    }
   ],
   "source": [
    "lm = linear_model.LinearRegression() \n",
    "lm.fit(X_train,y_train)"
   ]
  },
  {
   "cell_type": "code",
   "execution_count": 58,
   "id": "38775022",
   "metadata": {},
   "outputs": [
    {
     "name": "stdout",
     "output_type": "stream",
     "text": [
      "r2_train: 0.8982606709876451\n",
      "mse_train: 4.76644433400382\n",
      "rmse_train: 2.183218801220762\n",
      "mae_train: 1.717252767669044\n"
     ]
    }
   ],
   "source": [
    "predictions = lm.predict(X_train)\n",
    "\n",
    "r2 = r2_score(y_train, predictions)\n",
    "mse = mean_squared_error(y_train, predictions)\n",
    "rmse = math.sqrt(mse)\n",
    "mae = mean_absolute_error(y_train, predictions)\n",
    "\n",
    "print('r2_train:', r2)\n",
    "print('mse_train:', mse)\n",
    "print('rmse_train:', rmse)\n",
    "print('mae_train:', mae)"
   ]
  },
  {
   "cell_type": "code",
   "execution_count": 59,
   "id": "1ebe5130",
   "metadata": {},
   "outputs": [
    {
     "name": "stdout",
     "output_type": "stream",
     "text": [
      "r2_test: 0.889224785466982\n",
      "mse_test: 5.189059654187922\n",
      "rmse_test: 2.2779507576301823\n",
      "mae_test: 1.7609707766112717\n"
     ]
    }
   ],
   "source": [
    "predictions = lm.predict(X_test)\n",
    "\n",
    "r2 = r2_score(y_test, predictions)\n",
    "mse = mean_squared_error(y_test, predictions)\n",
    "rmse = math.sqrt(mse)\n",
    "mae = mean_absolute_error(y_test, predictions)\n",
    "\n",
    "print('r2_test:', r2)\n",
    "print('mse_test:', mse)\n",
    "print('rmse_test:', rmse)\n",
    "print('mae_test:', mae)"
   ]
  },
  {
   "cell_type": "code",
   "execution_count": 60,
   "id": "83704806",
   "metadata": {},
   "outputs": [
    {
     "name": "stdout",
     "output_type": "stream",
     "text": [
      "r2_test: 0.889224785466982\n",
      "mse_test: 5.189059654187922\n",
      "rmse_test: 2.2779507576301823\n",
      "mae_test: 1.7609707766112717\n"
     ]
    }
   ],
   "source": [
    "predictions = lm.predict(X_test)\n",
    "\n",
    "r2 = r2_score(y_test, predictions)\n",
    "mse = mean_squared_error(y_test, predictions)\n",
    "rmse = math.sqrt(mse)\n",
    "mae = mean_absolute_error(y_test, predictions)\n",
    "\n",
    "print('r2_test:', r2)\n",
    "print('mse_test:', mse)\n",
    "print('rmse_test:', rmse)\n",
    "print('mae_test:', mae)"
   ]
  },
  {
   "cell_type": "code",
   "execution_count": 61,
   "id": "589a9afd",
   "metadata": {},
   "outputs": [],
   "source": [
    "def fifa_processing(fifa):\n",
    "    fifa = fifa.drop(columns=[\"ID\",\"Club\"\n",
    "                          ,\"Position\"\n",
    "                          ,\"Team & Contract\"\n",
    "                          ,\"Joined\"\n",
    "                          ,\"Loan Date End\"\n",
    "                          ,\"Release Clause\"\n",
    "                          ,\"Contract\"\n",
    "                          ,\"Growth\"\n",
    "                          ,\"A/W\"\n",
    "                          ,\"D/W\"\n",
    "                          ,'LS'\n",
    "                          ,'ST',\n",
    "                         'RS',\n",
    "                         'LW',\n",
    "                         'LF',\n",
    "                         'CF',\n",
    "                         'RF',\n",
    "                         'RW',\n",
    "                         'LAM',\n",
    "                         'CAM',\n",
    "                         'RAM',\n",
    "                         'LM',\n",
    "                         'LCM',\n",
    "                         'CM',\n",
    "                         'RCM',\n",
    "                         'RM',\n",
    "                         'LWB',\n",
    "                         'LDM',\n",
    "                         'CDM',\n",
    "                         'RDM',\n",
    "                         'RWB',\n",
    "                         'LB',\n",
    "                         'LCB',\n",
    "                         'CB',\n",
    "                         'RCB',\n",
    "                         'RB',\n",
    "                         'GK'\n",
    "                         ,\"W/F\",\n",
    "                          \"SM\",\n",
    "                          \"IR\",\n",
    "                          \"Value\",\n",
    "                          \"Name\",\n",
    "                          \"Nationality\",\n",
    "                          \"foot\",\n",
    "                          \"Hits\"])\n",
    "    fifa['Wage'] = (pd.to_numeric(fifa['Wage'].str.strip('K').str.strip('€')))* 1000\n",
    "    fifa['Weight']=pd.to_numeric(fifa['Weight'].str.strip('lbs'))\n",
    "    fifa['Height']=((pd.to_numeric(fifa['Height'].str[0]))*12)+ (pd.to_numeric(fifa['Height'].str.split(\"\\'\").str[1].str.strip('\"')))*2.54\n",
    "    fifa = fifa.dropna()\n",
    "    fifa[\"BP\"]=(fifa[\"BP\"]\n",
    "            .replace(\"GK\",0)\n",
    "            .replace(\"LB\",1)\n",
    "            .replace(\"CB\",1)\n",
    "            .replace(\"RB\",1)\n",
    "            .replace(\"ST\",3)\n",
    "            .replace(\"RW\",3)\n",
    "            .replace(\"LWB\",3)\n",
    "            .replace(\"LW\",3)\n",
    "            .replace(\"RWB\",3)\n",
    "            .replace(\"CDM\",2)\n",
    "            .replace(\"CAM\",2)\n",
    "            .replace(\"LM\",2)\n",
    "            .replace(\"RM\",2)\n",
    "            .replace(\"CM\",2)\n",
    "            .replace(\"CF\",3))\n",
    "    fifa = fifa.drop(columns=['Height','Weight','Acceleration','Sprint Speed','Agility','Balance','Jumping',\n",
    "                 'Interceptions','Defending','Marking','Standing Tackle', 'Sliding Tackle', 'Goalkeeping',\n",
    "                 'GK Diving','GK Handling', 'GK Kicking', 'GK Positioning', 'GK Reflexes', 'PAC', 'DRI','DEF','PHY']) \n",
    "    from sklearn.preprocessing import MinMaxScaler\n",
    "    transformer = MinMaxScaler().fit(fifa)\n",
    "    X_normalized = transformer.transform(fifa)\n",
    "    fifa = pd.DataFrame(X_normalized, columns=fifa.columns)\n",
    "    return fifa "
   ]
  },
  {
   "cell_type": "code",
   "execution_count": 62,
   "id": "f1c2a6e4",
   "metadata": {},
   "outputs": [
    {
     "ename": "KeyError",
     "evalue": "\"['ID' 'Club' 'Position' 'Team & Contract' 'Joined' 'Loan Date End'\\n 'Release Clause' 'Contract' 'Growth' 'A/W' 'D/W' 'LS' 'ST' 'RS' 'LW' 'LF'\\n 'CF' 'RF' 'RW' 'LAM' 'CAM' 'RAM' 'LM' 'LCM' 'CM' 'RCM' 'RM' 'LWB' 'LDM'\\n 'CDM' 'RDM' 'RWB' 'LB' 'LCB' 'CB' 'RCB' 'RB' 'GK' 'W/F' 'SM' 'IR' 'Value'\\n 'Name' 'Nationality' 'foot' 'Hits'] not found in axis\"",
     "output_type": "error",
     "traceback": [
      "\u001b[0;31m---------------------------------------------------------------------------\u001b[0m",
      "\u001b[0;31mKeyError\u001b[0m                                  Traceback (most recent call last)",
      "\u001b[0;32m<ipython-input-62-680ac59c9a01>\u001b[0m in \u001b[0;36m<module>\u001b[0;34m\u001b[0m\n\u001b[0;32m----> 1\u001b[0;31m \u001b[0mfifa_processing\u001b[0m\u001b[0;34m(\u001b[0m\u001b[0mfifa\u001b[0m\u001b[0;34m)\u001b[0m\u001b[0;34m\u001b[0m\u001b[0;34m\u001b[0m\u001b[0m\n\u001b[0m",
      "\u001b[0;32m<ipython-input-61-4c476263301f>\u001b[0m in \u001b[0;36mfifa_processing\u001b[0;34m(fifa)\u001b[0m\n\u001b[1;32m      1\u001b[0m \u001b[0;32mdef\u001b[0m \u001b[0mfifa_processing\u001b[0m\u001b[0;34m(\u001b[0m\u001b[0mfifa\u001b[0m\u001b[0;34m)\u001b[0m\u001b[0;34m:\u001b[0m\u001b[0;34m\u001b[0m\u001b[0;34m\u001b[0m\u001b[0m\n\u001b[0;32m----> 2\u001b[0;31m     fifa = fifa.drop(columns=[\"ID\",\"Club\"\n\u001b[0m\u001b[1;32m      3\u001b[0m                           \u001b[0;34m,\u001b[0m\u001b[0;34m\"Position\"\u001b[0m\u001b[0;34m\u001b[0m\u001b[0;34m\u001b[0m\u001b[0m\n\u001b[1;32m      4\u001b[0m                           \u001b[0;34m,\u001b[0m\u001b[0;34m\"Team & Contract\"\u001b[0m\u001b[0;34m\u001b[0m\u001b[0;34m\u001b[0m\u001b[0m\n\u001b[1;32m      5\u001b[0m                           \u001b[0;34m,\u001b[0m\u001b[0;34m\"Joined\"\u001b[0m\u001b[0;34m\u001b[0m\u001b[0;34m\u001b[0m\u001b[0m\n",
      "\u001b[0;32m~/opt/anaconda3/lib/python3.8/site-packages/pandas/core/frame.py\u001b[0m in \u001b[0;36mdrop\u001b[0;34m(self, labels, axis, index, columns, level, inplace, errors)\u001b[0m\n\u001b[1;32m   4306\u001b[0m                 \u001b[0mweight\u001b[0m  \u001b[0;36m1.0\u001b[0m     \u001b[0;36m0.8\u001b[0m\u001b[0;34m\u001b[0m\u001b[0;34m\u001b[0m\u001b[0m\n\u001b[1;32m   4307\u001b[0m         \"\"\"\n\u001b[0;32m-> 4308\u001b[0;31m         return super().drop(\n\u001b[0m\u001b[1;32m   4309\u001b[0m             \u001b[0mlabels\u001b[0m\u001b[0;34m=\u001b[0m\u001b[0mlabels\u001b[0m\u001b[0;34m,\u001b[0m\u001b[0;34m\u001b[0m\u001b[0;34m\u001b[0m\u001b[0m\n\u001b[1;32m   4310\u001b[0m             \u001b[0maxis\u001b[0m\u001b[0;34m=\u001b[0m\u001b[0maxis\u001b[0m\u001b[0;34m,\u001b[0m\u001b[0;34m\u001b[0m\u001b[0;34m\u001b[0m\u001b[0m\n",
      "\u001b[0;32m~/opt/anaconda3/lib/python3.8/site-packages/pandas/core/generic.py\u001b[0m in \u001b[0;36mdrop\u001b[0;34m(self, labels, axis, index, columns, level, inplace, errors)\u001b[0m\n\u001b[1;32m   4151\u001b[0m         \u001b[0;32mfor\u001b[0m \u001b[0maxis\u001b[0m\u001b[0;34m,\u001b[0m \u001b[0mlabels\u001b[0m \u001b[0;32min\u001b[0m \u001b[0maxes\u001b[0m\u001b[0;34m.\u001b[0m\u001b[0mitems\u001b[0m\u001b[0;34m(\u001b[0m\u001b[0;34m)\u001b[0m\u001b[0;34m:\u001b[0m\u001b[0;34m\u001b[0m\u001b[0;34m\u001b[0m\u001b[0m\n\u001b[1;32m   4152\u001b[0m             \u001b[0;32mif\u001b[0m \u001b[0mlabels\u001b[0m \u001b[0;32mis\u001b[0m \u001b[0;32mnot\u001b[0m \u001b[0;32mNone\u001b[0m\u001b[0;34m:\u001b[0m\u001b[0;34m\u001b[0m\u001b[0;34m\u001b[0m\u001b[0m\n\u001b[0;32m-> 4153\u001b[0;31m                 \u001b[0mobj\u001b[0m \u001b[0;34m=\u001b[0m \u001b[0mobj\u001b[0m\u001b[0;34m.\u001b[0m\u001b[0m_drop_axis\u001b[0m\u001b[0;34m(\u001b[0m\u001b[0mlabels\u001b[0m\u001b[0;34m,\u001b[0m \u001b[0maxis\u001b[0m\u001b[0;34m,\u001b[0m \u001b[0mlevel\u001b[0m\u001b[0;34m=\u001b[0m\u001b[0mlevel\u001b[0m\u001b[0;34m,\u001b[0m \u001b[0merrors\u001b[0m\u001b[0;34m=\u001b[0m\u001b[0merrors\u001b[0m\u001b[0;34m)\u001b[0m\u001b[0;34m\u001b[0m\u001b[0;34m\u001b[0m\u001b[0m\n\u001b[0m\u001b[1;32m   4154\u001b[0m \u001b[0;34m\u001b[0m\u001b[0m\n\u001b[1;32m   4155\u001b[0m         \u001b[0;32mif\u001b[0m \u001b[0minplace\u001b[0m\u001b[0;34m:\u001b[0m\u001b[0;34m\u001b[0m\u001b[0;34m\u001b[0m\u001b[0m\n",
      "\u001b[0;32m~/opt/anaconda3/lib/python3.8/site-packages/pandas/core/generic.py\u001b[0m in \u001b[0;36m_drop_axis\u001b[0;34m(self, labels, axis, level, errors)\u001b[0m\n\u001b[1;32m   4186\u001b[0m                 \u001b[0mnew_axis\u001b[0m \u001b[0;34m=\u001b[0m \u001b[0maxis\u001b[0m\u001b[0;34m.\u001b[0m\u001b[0mdrop\u001b[0m\u001b[0;34m(\u001b[0m\u001b[0mlabels\u001b[0m\u001b[0;34m,\u001b[0m \u001b[0mlevel\u001b[0m\u001b[0;34m=\u001b[0m\u001b[0mlevel\u001b[0m\u001b[0;34m,\u001b[0m \u001b[0merrors\u001b[0m\u001b[0;34m=\u001b[0m\u001b[0merrors\u001b[0m\u001b[0;34m)\u001b[0m\u001b[0;34m\u001b[0m\u001b[0;34m\u001b[0m\u001b[0m\n\u001b[1;32m   4187\u001b[0m             \u001b[0;32melse\u001b[0m\u001b[0;34m:\u001b[0m\u001b[0;34m\u001b[0m\u001b[0;34m\u001b[0m\u001b[0m\n\u001b[0;32m-> 4188\u001b[0;31m                 \u001b[0mnew_axis\u001b[0m \u001b[0;34m=\u001b[0m \u001b[0maxis\u001b[0m\u001b[0;34m.\u001b[0m\u001b[0mdrop\u001b[0m\u001b[0;34m(\u001b[0m\u001b[0mlabels\u001b[0m\u001b[0;34m,\u001b[0m \u001b[0merrors\u001b[0m\u001b[0;34m=\u001b[0m\u001b[0merrors\u001b[0m\u001b[0;34m)\u001b[0m\u001b[0;34m\u001b[0m\u001b[0;34m\u001b[0m\u001b[0m\n\u001b[0m\u001b[1;32m   4189\u001b[0m             \u001b[0mresult\u001b[0m \u001b[0;34m=\u001b[0m \u001b[0mself\u001b[0m\u001b[0;34m.\u001b[0m\u001b[0mreindex\u001b[0m\u001b[0;34m(\u001b[0m\u001b[0;34m**\u001b[0m\u001b[0;34m{\u001b[0m\u001b[0maxis_name\u001b[0m\u001b[0;34m:\u001b[0m \u001b[0mnew_axis\u001b[0m\u001b[0;34m}\u001b[0m\u001b[0;34m)\u001b[0m\u001b[0;34m\u001b[0m\u001b[0;34m\u001b[0m\u001b[0m\n\u001b[1;32m   4190\u001b[0m \u001b[0;34m\u001b[0m\u001b[0m\n",
      "\u001b[0;32m~/opt/anaconda3/lib/python3.8/site-packages/pandas/core/indexes/base.py\u001b[0m in \u001b[0;36mdrop\u001b[0;34m(self, labels, errors)\u001b[0m\n\u001b[1;32m   5589\u001b[0m         \u001b[0;32mif\u001b[0m \u001b[0mmask\u001b[0m\u001b[0;34m.\u001b[0m\u001b[0many\u001b[0m\u001b[0;34m(\u001b[0m\u001b[0;34m)\u001b[0m\u001b[0;34m:\u001b[0m\u001b[0;34m\u001b[0m\u001b[0;34m\u001b[0m\u001b[0m\n\u001b[1;32m   5590\u001b[0m             \u001b[0;32mif\u001b[0m \u001b[0merrors\u001b[0m \u001b[0;34m!=\u001b[0m \u001b[0;34m\"ignore\"\u001b[0m\u001b[0;34m:\u001b[0m\u001b[0;34m\u001b[0m\u001b[0;34m\u001b[0m\u001b[0m\n\u001b[0;32m-> 5591\u001b[0;31m                 \u001b[0;32mraise\u001b[0m \u001b[0mKeyError\u001b[0m\u001b[0;34m(\u001b[0m\u001b[0;34mf\"{labels[mask]} not found in axis\"\u001b[0m\u001b[0;34m)\u001b[0m\u001b[0;34m\u001b[0m\u001b[0;34m\u001b[0m\u001b[0m\n\u001b[0m\u001b[1;32m   5592\u001b[0m             \u001b[0mindexer\u001b[0m \u001b[0;34m=\u001b[0m \u001b[0mindexer\u001b[0m\u001b[0;34m[\u001b[0m\u001b[0;34m~\u001b[0m\u001b[0mmask\u001b[0m\u001b[0;34m]\u001b[0m\u001b[0;34m\u001b[0m\u001b[0;34m\u001b[0m\u001b[0m\n\u001b[1;32m   5593\u001b[0m         \u001b[0;32mreturn\u001b[0m \u001b[0mself\u001b[0m\u001b[0;34m.\u001b[0m\u001b[0mdelete\u001b[0m\u001b[0;34m(\u001b[0m\u001b[0mindexer\u001b[0m\u001b[0;34m)\u001b[0m\u001b[0;34m\u001b[0m\u001b[0;34m\u001b[0m\u001b[0m\n",
      "\u001b[0;31mKeyError\u001b[0m: \"['ID' 'Club' 'Position' 'Team & Contract' 'Joined' 'Loan Date End'\\n 'Release Clause' 'Contract' 'Growth' 'A/W' 'D/W' 'LS' 'ST' 'RS' 'LW' 'LF'\\n 'CF' 'RF' 'RW' 'LAM' 'CAM' 'RAM' 'LM' 'LCM' 'CM' 'RCM' 'RM' 'LWB' 'LDM'\\n 'CDM' 'RDM' 'RWB' 'LB' 'LCB' 'CB' 'RCB' 'RB' 'GK' 'W/F' 'SM' 'IR' 'Value'\\n 'Name' 'Nationality' 'foot' 'Hits'] not found in axis\""
     ]
    }
   ],
   "source": [
    "fifa_processing(fifa)"
   ]
  },
  {
   "cell_type": "code",
   "execution_count": null,
   "id": "1379ea64",
   "metadata": {},
   "outputs": [],
   "source": [
    "fifa.columns"
   ]
  },
  {
   "cell_type": "code",
   "execution_count": null,
   "id": "33cfa320",
   "metadata": {},
   "outputs": [],
   "source": [
    "fifa2 = pd.read_csv('./fifa21_validate.csv')\n",
    "fifa_processing(fifa2)\n",
    "y = fifa2['OVA']\n",
    "X = fifa2['']\n",
    "fifa.head(10)"
   ]
  },
  {
   "cell_type": "code",
   "execution_count": null,
   "id": "ecae4f76",
   "metadata": {},
   "outputs": [],
   "source": []
  }
 ],
 "metadata": {
  "kernelspec": {
   "display_name": "Python 3",
   "language": "python",
   "name": "python3"
  },
  "language_info": {
   "codemirror_mode": {
    "name": "ipython",
    "version": 3
   },
   "file_extension": ".py",
   "mimetype": "text/x-python",
   "name": "python",
   "nbconvert_exporter": "python",
   "pygments_lexer": "ipython3",
   "version": "3.8.8"
  }
 },
 "nbformat": 4,
 "nbformat_minor": 5
}
